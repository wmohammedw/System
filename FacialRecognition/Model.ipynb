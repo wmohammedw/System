{
 "cells": [
  {
   "cell_type": "markdown",
   "metadata": {},
   "source": [
    "# Model Building\n",
    "\n",
    "in this notebook, we will build a CNN model with transfer learning such as VGG16, ResNet50 or 101, ect. we want to reach a high accuracy something near to 99%. \n",
    "\n",
    "Notebook agenda:\n",
    "- imporint the libraries\n",
    "- EDA\n",
    "- pre-processing (like resize images, data augmentation)\n",
    "- model and transfer learning\n",
    "- create a function for bounded box\n",
    "- evaluate the model"
   ]
  },
  {
   "cell_type": "code",
   "execution_count": null,
   "metadata": {},
   "outputs": [],
   "source": []
  }
 ],
 "metadata": {
  "language_info": {
   "name": "python"
  },
  "orig_nbformat": 4
 },
 "nbformat": 4,
 "nbformat_minor": 2
}
